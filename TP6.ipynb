{
 "cells": [
  {
   "cell_type": "code",
   "execution_count": null,
   "metadata": {
    "scrolled": true
   },
   "outputs": [],
   "source": [
    "import os\n",
    "\n",
    "import numpy as np\n",
    "import cv2\n",
    "\n",
    "from matplotlib import pyplot as plt"
   ]
  },
  {
   "cell_type": "code",
   "execution_count": null,
   "metadata": {
    "scrolled": true
   },
   "outputs": [],
   "source": [
    "folder = \"dataset/\"\n",
    "\n",
    "haarcascade_frontalface_default_path = \"haarcascade_frontalface_default.xml\"\n",
    "haarcascade_eye_path = \"haarcascade_eye.xml\""
   ]
  },
  {
   "cell_type": "code",
   "execution_count": null,
   "metadata": {},
   "outputs": [],
   "source": [
    "face_cascade = cv2.CascadeClassifier(haarcascade_frontalface_default_path)\n",
    "eye_cascade = cv2.CascadeClassifier(haarcascade_eye_path)"
   ]
  },
  {
   "cell_type": "markdown",
   "metadata": {},
   "source": [
    "# Créer un nouveau dataset\n",
    "\n",
    "Plan :\n",
    "- Créer le répertoire si la personne n'existe pas dans les datasets. Sinon, compter le nombre de fichiers pour ne pas écraser de photos déjà présentes.\n",
    "- Récupérer la vidéo de la caméra.\n",
    "- Sauvegarder une image sur 5 pour éviter d'avoir des images trop similaires."
   ]
  },
  {
   "cell_type": "code",
   "execution_count": null,
   "metadata": {
    "scrolled": true
   },
   "outputs": [],
   "source": [
    "cap = cv2.VideoCapture(0)\n",
    "\n",
    "# Check if the webcam is opened correctly\n",
    "if not cap.isOpened():\n",
    "    raise IOError(\"Cannot open webcam\")\n",
    "\n",
    "person_name = \"test\"\n",
    "\n",
    "path = folder + \"/\" + person_name\n",
    "\n",
    "if not os.path.exists(path):\n",
    "    os.makedirs(path)\n",
    "    image_label = 0\n",
    "else:\n",
    "    image_label = len(\n",
    "        [\n",
    "            f for f in os.listdir(path)\n",
    "            if f.endswith('.jpg')\n",
    "            and os.path.isfile(os.path.join(path, f))\n",
    "        ]\n",
    "    ) + 1\n",
    "    \n",
    "ret = True\n",
    "current_iteration = 0\n",
    "\n",
    "while ret == True:\n",
    "    ret, img = cap.read()\n",
    "    gray = cv2.cvtColor(img, cv2.COLOR_BGR2GRAY)\n",
    "\n",
    "    # Detect face in the picture in grayscale\n",
    "    faces = face_cascade.detectMultiScale(gray, 1.3, 5)\n",
    "\n",
    "    for x, y, w, h in faces:\n",
    "        roi_color = img[y:y+h, x:x+w]\n",
    "        cv2.rectangle(img, (x, y), (x+w, y+h), (255, 0, 0), 2)\n",
    "        \n",
    "        # Save 1 frame for 5 taken. This will constitute the dataset\n",
    "        if current_iteration%5 == 0:\n",
    "            export_image = cv2.resize(roi_color, (250, 250))\n",
    "            filename = \"{}/{}/{}_{}.jpg\".format(\n",
    "                    folder, person_name, person_name, image_label\n",
    "                )\n",
    "            cv2.imwrite(filename, export_image)\n",
    "            image_label += 1\n",
    "        current_iteration += 1\n",
    "    \n",
    "    cv2.imshow('Save new dataset', img)    \n",
    "    if cv2.waitKey(1) == 27:\n",
    "        ret = False\n",
    "        break\n",
    "\n",
    "cap.release()\n",
    "cv2.destroyAllWindows()"
   ]
  },
  {
   "cell_type": "markdown",
   "metadata": {},
   "source": [
    "# Entraînement\n",
    "\n",
    "Plan :\n",
    "- Charger le dataset\n",
    "- Entraîner le modèle d'OpenCv : face.LBPHFaceRecognizer\n",
    "- Récupérer la vidéo de la webcam\n",
    "- Faire coïncider les noms des personnes et des visages."
   ]
  },
  {
   "cell_type": "code",
   "execution_count": null,
   "metadata": {
    "scrolled": true
   },
   "outputs": [],
   "source": [
    "#Loading datasets\n",
    "faces = []\n",
    "labels = []\n",
    "labels_string = []\n",
    "current_label = 0\n",
    "\n",
    "# Load every image in the dataset folder. For each picture, theirs parents directory\n",
    "# will be the label of the image.\n",
    "for element in os.listdir(folder):\n",
    "    path = folder + element + \"/\"\n",
    "    if os.path.isdir(path):\n",
    "        for picture in os.listdir(path):\n",
    "            labels.append(current_label)\n",
    "            faces.append(\n",
    "                    cv2.imread(path + picture, cv2.IMREAD_GRAYSCALE)\n",
    "                )\n",
    "    labels_string.append(element)\n",
    "    current_label += 1"
   ]
  },
  {
   "cell_type": "markdown",
   "metadata": {},
   "source": [
    "### Entraînement du modèle d'OpenCv"
   ]
  },
  {
   "cell_type": "code",
   "execution_count": null,
   "metadata": {
    "scrolled": true
   },
   "outputs": [],
   "source": [
    "face_recognizer = cv2.face.LBPHFaceRecognizer_create()\n",
    "face_recognizer.train(faces, np.array(labels))"
   ]
  },
  {
   "cell_type": "markdown",
   "metadata": {},
   "source": [
    "### Récupérer la vidéo et mettre des noms sur des visages"
   ]
  },
  {
   "cell_type": "code",
   "execution_count": null,
   "metadata": {
    "scrolled": true
   },
   "outputs": [],
   "source": [
    "cap = cv2.VideoCapture(0)\n",
    "\n",
    "# Check if the webcam is opened correctly\n",
    "if not cap.isOpened():\n",
    "    raise IOError(\"Cannot open webcam\")\n",
    "\n",
    "ret = True\n",
    "\n",
    "while ret == True:\n",
    "    ret, img = cap.read()\n",
    "    gray = cv2.cvtColor(img, cv2.COLOR_BGR2GRAY)\n",
    "    # Face detection\n",
    "    faces = face_cascade.detectMultiScale(gray, 1.3, 5)\n",
    "\n",
    "    for x, y, w, h in faces:\n",
    "        cv2.rectangle(img, (x, y), (x+w, y+h), (255, 0, 0), 2)\n",
    "        roi_gray = gray[y:y+h, x:x+w]\n",
    "        roi_color = img[y+4:y+h-4, x+4:x+w-4]\n",
    "        eyes = eye_cascade.detectMultiScale(roi_gray)\n",
    "        \n",
    "        for ex, ey, ew, eh in eyes:\n",
    "            cv2.rectangle(\n",
    "                    roi_color, (ex, ey), (ex+ew, ey+eh), (0, 255, 0), 2\n",
    "                )\n",
    "        \n",
    "        # Prediction\n",
    "        label = face_recognizer.predict(roi_gray)\n",
    "        # The label is currently a number. Here's the match between numbers and string names\n",
    "        label = labels_string[label[0]]\n",
    "        # Put the label on the picture. Origin is the top left corner of the face rectangle.\n",
    "        img = cv2.putText(img, label, (x, y), cv2.FONT_HERSHEY_SIMPLEX, 1, (255, 255, 0))\n",
    "    \n",
    "    cv2.imshow('Affichage Resultats', img)\n",
    "\n",
    "    c = cv2.waitKey(1)\n",
    "    \n",
    "    if c == 27:\n",
    "        ret = False\n",
    "        break\n",
    "\n",
    "cap.release()\n",
    "cv2.destroyAllWindows()"
   ]
  }
 ],
 "metadata": {
  "kernelspec": {
   "display_name": "Python 3",
   "language": "python",
   "name": "python3"
  },
  "language_info": {
   "codemirror_mode": {
    "name": "ipython",
    "version": 3
   },
   "file_extension": ".py",
   "mimetype": "text/x-python",
   "name": "python",
   "nbconvert_exporter": "python",
   "pygments_lexer": "ipython3",
   "version": "3.7.3"
  }
 },
 "nbformat": 4,
 "nbformat_minor": 2
}
